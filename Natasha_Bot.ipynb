{
  "nbformat": 4,
  "nbformat_minor": 0,
  "metadata": {
    "colab": {
      "name": "Natasha_Bot.ipynb",
      "provenance": [],
      "collapsed_sections": []
    },
    "kernelspec": {
      "name": "python3",
      "display_name": "Python 3"
    },
    "language_info": {
      "name": "python"
    }
  },
  "cells": [
    {
      "cell_type": "code",
      "execution_count": 1,
      "metadata": {
        "colab": {
          "base_uri": "https://localhost:8080/"
        },
        "id": "dJa4TtcFrKG_",
        "outputId": "74351d44-3a66-4c9d-acb5-5a8c4099decc"
      },
      "outputs": [
        {
          "output_type": "stream",
          "name": "stdout",
          "text": [
            "Looking in indexes: https://pypi.org/simple, https://us-python.pkg.dev/colab-wheels/public/simple/\n",
            "Collecting pyngrok\n",
            "  Downloading pyngrok-5.1.0.tar.gz (745 kB)\n",
            "\u001b[K     |████████████████████████████████| 745 kB 5.1 MB/s \n",
            "\u001b[?25hRequirement already satisfied: PyYAML in /usr/local/lib/python3.7/dist-packages (from pyngrok) (3.13)\n",
            "Building wheels for collected packages: pyngrok\n",
            "  Building wheel for pyngrok (setup.py) ... \u001b[?25l\u001b[?25hdone\n",
            "  Created wheel for pyngrok: filename=pyngrok-5.1.0-py3-none-any.whl size=19007 sha256=858e9b0d75f54f2f3aa0d526407790e2d0c244f9b6d6e84539137943d19cf3c5\n",
            "  Stored in directory: /root/.cache/pip/wheels/bf/e6/af/ccf6598ecefecd44104069371795cb9b3afbcd16987f6ccfb3\n",
            "Successfully built pyngrok\n",
            "Installing collected packages: pyngrok\n",
            "Successfully installed pyngrok-5.1.0\n"
          ]
        }
      ],
      "source": [
        "!pip install pyngrok"
      ]
    },
    {
      "cell_type": "code",
      "source": [
        "from flask import Flask\n",
        "from pyngrok import ngrok"
      ],
      "metadata": {
        "id": "icqINnv_rTgE"
      },
      "execution_count": 2,
      "outputs": []
    },
    {
      "cell_type": "code",
      "source": [
        "port_no = 8000"
      ],
      "metadata": {
        "id": "7G4n8BdirY-2"
      },
      "execution_count": 3,
      "outputs": []
    },
    {
      "cell_type": "code",
      "source": [
        "from flask import Flask,request,jsonify\n",
        "import requests\n",
        "import json\n",
        "\n",
        "app = Flask(__name__,template_folder='/content')\n",
        "ngrok.set_auth_token(\"2C0wBtih7kmZGttOm8ftZMjQZke_7wygjbFWzNG9grhghj8g6\")\n",
        "public_url =  ngrok.connect(port_no).public_url\n",
        "\n",
        "@app.route('/',methods=['POST'])\n",
        "def index():\n",
        "    data = request.get_json()\n",
        "    if(len(data['queryResult']['parameters'])==2):\n",
        "      source_currency = data['queryResult']['parameters']['unit-currency']['currency']\n",
        "      amount = data['queryResult']['parameters']['unit-currency']['amount']\n",
        "      target_currency = data['queryResult']['parameters']['currency-name']\n",
        "\n",
        "      print(target_currency,source_currency,amount)\n",
        "\n",
        "      url = \"https://api.apilayer.com/fixer/convert?to={}&from={}&amount={}\".format(target_currency,source_currency,amount)\n",
        "\n",
        "      payload = {}\n",
        "      headers= {\n",
        "        \"apikey\": \"Xrtl17VBr5VqkNYwaH4IN5RmitkfwzjB\"\n",
        "      }\n",
        "\n",
        "      response = requests.request(\"GET\", url, headers=headers, data = payload)\n",
        "\n",
        "      status_code = response.status_code\n",
        "      result = response.text\n",
        "      print(result)\n",
        "\n",
        "      res = json.loads(result)\n",
        "      final_amount = res['result']\n",
        "      final_amount = round(final_amount,2)\n",
        "      output = {\n",
        "          'fulfillmentText':\"{} {} is {} {}\".format(amount,source_currency,final_amount,target_currency)\n",
        "      }\n",
        "      return jsonify(output)\n",
        "    else:\n",
        "        city = data['queryResult']['parameters']['geo-city']\n",
        "        url = \"https://api.openweathermap.org/data/2.5/weather?q={}&units=metric&appid=386617448263377540e5e4979cdd4474\".format(city)\n",
        "\n",
        "        response = requests.get(url)\n",
        "        response = response.json()\n",
        "        temperature = response['main']['temp']\n",
        "        humidity = response['main']['humidity']\n",
        "        windspeed = response['wind']['speed']\n",
        "        climate = response['weather'][0]['description']\n",
        "\n",
        "        output = {\n",
        "          'fulfillmentText':\"Today's temperatue is {} °C & feels like {} where as humidity is {}% and wind speed is {}km/hr\".format(temperature,climate,humidity,windspeed)\n",
        "        }\n",
        "        return jsonify(output)\n",
        "\n",
        "\n",
        "print(f\"To acces the Gloable link please click {public_url}\")\n",
        "\n",
        "app.run(port=port_no)"
      ],
      "metadata": {
        "colab": {
          "base_uri": "https://localhost:8080/"
        },
        "id": "PhULcGCxreED",
        "outputId": "c33ed49e-a6f3-46d6-fab7-cc0ba7f776e2"
      },
      "execution_count": 4,
      "outputs": [
        {
          "output_type": "stream",
          "name": "stdout",
          "text": [
            "To acces the Gloable link please click http://116e-35-243-209-178.ngrok.io\n",
            " * Serving Flask app \"__main__\" (lazy loading)\n",
            " * Environment: production\n",
            "\u001b[31m   WARNING: This is a development server. Do not use it in a production deployment.\u001b[0m\n",
            "\u001b[2m   Use a production WSGI server instead.\u001b[0m\n",
            " * Debug mode: off\n"
          ]
        },
        {
          "output_type": "stream",
          "name": "stderr",
          "text": [
            " * Running on http://127.0.0.1:8000/ (Press CTRL+C to quit)\n",
            "127.0.0.1 - - [16/Jul/2022 08:37:00] \"\u001b[37mPOST / HTTP/1.1\u001b[0m\" 200 -\n",
            "[2022-07-16 08:37:13,214] ERROR in app: Exception on / [POST]\n",
            "Traceback (most recent call last):\n",
            "  File \"/usr/local/lib/python3.7/dist-packages/flask/app.py\", line 2447, in wsgi_app\n",
            "    response = self.full_dispatch_request()\n",
            "  File \"/usr/local/lib/python3.7/dist-packages/flask/app.py\", line 1952, in full_dispatch_request\n",
            "    rv = self.handle_user_exception(e)\n",
            "  File \"/usr/local/lib/python3.7/dist-packages/flask/app.py\", line 1821, in handle_user_exception\n",
            "    reraise(exc_type, exc_value, tb)\n",
            "  File \"/usr/local/lib/python3.7/dist-packages/flask/_compat.py\", line 39, in reraise\n",
            "    raise value\n",
            "  File \"/usr/local/lib/python3.7/dist-packages/flask/app.py\", line 1950, in full_dispatch_request\n",
            "    rv = self.dispatch_request()\n",
            "  File \"/usr/local/lib/python3.7/dist-packages/flask/app.py\", line 1936, in dispatch_request\n",
            "    return self.view_functions[rule.endpoint](**req.view_args)\n",
            "  File \"<ipython-input-4-91ce5642ee54>\", line 45, in index\n",
            "    temperature = response['main']['temp']\n",
            "KeyError: 'main'\n",
            "127.0.0.1 - - [16/Jul/2022 08:37:13] \"\u001b[35m\u001b[1mPOST / HTTP/1.1\u001b[0m\" 500 -\n",
            "127.0.0.1 - - [16/Jul/2022 08:37:29] \"\u001b[37mPOST / HTTP/1.1\u001b[0m\" 200 -\n",
            "127.0.0.1 - - [16/Jul/2022 08:37:49] \"\u001b[37mPOST / HTTP/1.1\u001b[0m\" 200 -\n"
          ]
        },
        {
          "output_type": "stream",
          "name": "stdout",
          "text": [
            "INR USD 1.0\n"
          ]
        },
        {
          "output_type": "stream",
          "name": "stderr",
          "text": [
            "127.0.0.1 - - [16/Jul/2022 08:38:17] \"\u001b[37mPOST / HTTP/1.1\u001b[0m\" 200 -\n"
          ]
        },
        {
          "output_type": "stream",
          "name": "stdout",
          "text": [
            "{\n",
            "    \"success\": true,\n",
            "    \"query\": {\n",
            "        \"from\": \"USD\",\n",
            "        \"to\": \"INR\",\n",
            "        \"amount\": 1\n",
            "    },\n",
            "    \"info\": {\n",
            "        \"timestamp\": 1657960684,\n",
            "        \"rate\": 79.720704\n",
            "    },\n",
            "    \"date\": \"2022-07-16\",\n",
            "    \"result\": 79.720704\n",
            "}\n",
            "\n",
            "INR USD 1.0\n"
          ]
        },
        {
          "output_type": "stream",
          "name": "stderr",
          "text": [
            "127.0.0.1 - - [16/Jul/2022 08:38:28] \"\u001b[37mPOST / HTTP/1.1\u001b[0m\" 200 -\n"
          ]
        },
        {
          "output_type": "stream",
          "name": "stdout",
          "text": [
            "{\n",
            "    \"success\": true,\n",
            "    \"query\": {\n",
            "        \"from\": \"USD\",\n",
            "        \"to\": \"INR\",\n",
            "        \"amount\": 1\n",
            "    },\n",
            "    \"info\": {\n",
            "        \"timestamp\": 1657960684,\n",
            "        \"rate\": 79.720704\n",
            "    },\n",
            "    \"date\": \"2022-07-16\",\n",
            "    \"result\": 79.720704\n",
            "}\n",
            "\n"
          ]
        }
      ]
    }
  ]
}